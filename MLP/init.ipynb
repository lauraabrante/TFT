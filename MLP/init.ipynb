{
  "nbformat": 4,
  "nbformat_minor": 0,
  "metadata": {
    "colab": {
      "provenance": [],
      "authorship_tag": "ABX9TyPgLqmpAfViLN1llafW78HH"
    },
    "kernelspec": {
      "name": "python3",
      "display_name": "Python 3"
    },
    "language_info": {
      "name": "python"
    }
  },
  "cells": [
    {
      "cell_type": "code",
      "execution_count": null,
      "metadata": {
        "colab": {
          "base_uri": "https://localhost:8080/"
        },
        "id": "hRSpHq3dCl-h",
        "outputId": "97f3dc54-4ec7-4dbb-d1cc-fd6d3e5560ea"
      },
      "outputs": [
        {
          "output_type": "stream",
          "name": "stdout",
          "text": [
            "Mounted at /content/drive\n"
          ]
        }
      ],
      "source": [
        "#Montamos el drive para poder acceder a los datos\n",
        "from google.colab import drive\n",
        "drive.mount('/content/drive')"
      ]
    },
    {
      "cell_type": "code",
      "source": [
        "#Import libraries\n",
        "import numpy as np\n",
        "import pandas as pd\n",
        "import math\n",
        "from sklearn.neural_network import MLPRegressor\n",
        "from sklearn.metrics import mean_squared_error\n",
        "from sklearn.metrics import mean_absolute_error\n",
        "from sklearn.metrics import r2_score\n",
        "\n",
        "#Función para las métricas\n",
        "def metrics(metric, modelo, Y_predict, Y_test):\n",
        "  MAE = mean_absolute_error(Y_test, Y_predict)\n",
        "  MSE = mean_squared_error(Y_test, Y_predict)\n",
        "  RMSE = math.sqrt(MSE)\n",
        "  R2 = r2_score(Y_test, Y_predict)\n",
        "  metric.at['RMSE', modelo] = RMSE\n",
        "  metric.at['MAE', modelo] = MAE\n",
        "  metric.at['R^2', modelo] = R2\n",
        "  return metric\n",
        "\n",
        "def table(index, num_repetition):\n",
        "  tune = pd.DataFrame(index = index,\n",
        "                    columns = ['R{}'.format(i) for i in range(num_repetition)])\n",
        "  return tune\n",
        "\n",
        "def training(hidden_layer_sizes, max_iter, activation, learning_rate,\n",
        "                     learning_rate_init,alpha, solver, shuffle, X_train, Y_train,\n",
        "                     X_test, random_state):\n",
        "    mlp = MLPRegressor(hidden_layer_sizes=hidden_layer_sizes, max_iter=max_iter, \n",
        "                         activation = activation, learning_rate = learning_rate,\n",
        "                         learning_rate_init = learning_rate_init, alpha = alpha,\n",
        "                         solver = solver, shuffle = shuffle, random_state=random_state)\n",
        "    mlp.fit(X_train, Y_train.values.ravel())\n",
        "    return mlp.predict(X_test)\n",
        "\n",
        "def min_mean(tune, num_repetition):\n",
        "  tune['Mean'] = tune[['R{}'.format(i) for i in range(num_repetition)]].mean(axis = 1)\n",
        "  tune['Min'] = tune[['R{}'.format(i) for i in range(num_repetition)]].min(axis = 1)\n",
        "  return tune.sort_values('Min')"
      ],
      "metadata": {
        "id": "7bFcCymODBh6"
      },
      "execution_count": null,
      "outputs": []
    }
  ]
}